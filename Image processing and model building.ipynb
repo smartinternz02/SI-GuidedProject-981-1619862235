{
 "cells": [
  {
   "cell_type": "code",
   "execution_count": 36,
   "metadata": {},
   "outputs": [],
   "source": [
    "import numpy as np\n",
    "import tensorflow \n",
    "from tensorflow.keras.models import Sequential \n",
    "from tensorflow.keras import layers \n",
    "\n",
    "from tensorflow.keras.layers import Dense,Flatten\n",
    "\n",
    "from tensorflow.keras.layers import Conv2D,MaxPooling2D \n",
    "from keras.preprocessing.image import ImageDataGenerator\n"
   ]
  },
  {
   "cell_type": "code",
   "execution_count": 37,
   "metadata": {},
   "outputs": [
    {
     "data": {
      "text/plain": [
       "'1.14.0'"
      ]
     },
     "execution_count": 37,
     "metadata": {},
     "output_type": "execute_result"
    }
   ],
   "source": [
    "tensorflow.__version__"
   ]
  },
  {
   "cell_type": "code",
   "execution_count": 38,
   "metadata": {},
   "outputs": [
    {
     "data": {
      "text/plain": [
       "'2.2.4-tf'"
      ]
     },
     "execution_count": 38,
     "metadata": {},
     "output_type": "execute_result"
    }
   ],
   "source": [
    "tensorflow.keras.__version__"
   ]
  },
  {
   "cell_type": "markdown",
   "metadata": {},
   "source": [
    "# image data argumentation"
   ]
  },
  {
   "cell_type": "code",
   "execution_count": 39,
   "metadata": {},
   "outputs": [],
   "source": [
    "train_datagen = ImageDataGenerator(rescale=1./255,shear_range=0.2,zoom_range=0.2,horizontal_flip=True)\n",
    "test_datagen=ImageDataGenerator(rescale=1./255)"
   ]
  },
  {
   "cell_type": "markdown",
   "metadata": {},
   "source": [
    "# Loading our data and performing data agumentation"
   ]
  },
  {
   "cell_type": "code",
   "execution_count": 40,
   "metadata": {},
   "outputs": [
    {
     "name": "stdout",
     "output_type": "stream",
     "text": [
      "Found 594 images belonging to 6 classes.\n",
      "Found 30 images belonging to 6 classes.\n"
     ]
    }
   ],
   "source": [
    "x_train = train_datagen.flow_from_directory(r\"E:\\geethanjaliexternship\\Dataset\\Dataset\\train\",target_size = (64,64),batch_size = 5, color_mode='grayscale', class_mode = \"categorical\")\n",
    "x_test= test_datagen.flow_from_directory(r\"E:\\geethanjaliexternship\\Dataset\\Dataset\\test\",target_size = (64,64),batch_size = 5, color_mode = 'grayscale',class_mode = \"categorical\" )"
   ]
  },
  {
   "cell_type": "code",
   "execution_count": 41,
   "metadata": {},
   "outputs": [
    {
     "name": "stdout",
     "output_type": "stream",
     "text": [
      "{'0': 0, '1': 1, '2': 2, '3': 3, '4': 4, '5': 5}\n"
     ]
    }
   ],
   "source": [
    "print(x_train.class_indices)"
   ]
  },
  {
   "cell_type": "code",
   "execution_count": 42,
   "metadata": {},
   "outputs": [
    {
     "name": "stdout",
     "output_type": "stream",
     "text": [
      "{'0': 0, '1': 1, '2': 2, '3': 3, '4': 4, '5': 5}\n"
     ]
    }
   ],
   "source": [
    "print(x_test.class_indices)"
   ]
  },
  {
   "cell_type": "code",
   "execution_count": 43,
   "metadata": {},
   "outputs": [
    {
     "data": {
      "text/plain": [
       "Counter({0: 99, 1: 99, 2: 99, 3: 99, 4: 99, 5: 99})"
      ]
     },
     "execution_count": 43,
     "metadata": {},
     "output_type": "execute_result"
    }
   ],
   "source": [
    "from collections import Counter as c\n",
    "c(x_train .labels)"
   ]
  },
  {
   "cell_type": "markdown",
   "metadata": {},
   "source": [
    "# creating the model\n",
    "# Adding CNN layers"
   ]
  },
  {
   "cell_type": "code",
   "execution_count": 44,
   "metadata": {},
   "outputs": [],
   "source": [
    "# Initializing the CNN\n",
    "classifier = Sequential()\n",
    "\n",
    "# First convolution layer and pooling\n",
    "classifier.add(Conv2D(32, (3, 3), input_shape=(64, 64, 1), activation='relu'))\n",
    "classifier.add(MaxPooling2D(pool_size=(2, 2)))\n",
    "# Second convolution layer and pooling\n",
    "classifier.add(Conv2D(32, (3, 3), activation='relu'))\n",
    "# input_shape is going to be the pooled feature maps from the previous convolution layer\n",
    "classifier.add(MaxPooling2D(pool_size=(2, 2)))\n",
    "\n",
    "# Flattening the layers\n",
    "classifier.add(Flatten())\n",
    "\n",
    "\n"
   ]
  },
  {
   "cell_type": "markdown",
   "metadata": {},
   "source": [
    "\n",
    "# Adding dense layers"
   ]
  },
  {
   "cell_type": "code",
   "execution_count": 45,
   "metadata": {},
   "outputs": [],
   "source": [
    "# Adding a fully connected layer\n",
    "classifier.add(Dense(units=128, activation='relu'))\n",
    "classifier.add(Dense(units=6, activation='softmax')) # softmax for more than 2"
   ]
  },
  {
   "cell_type": "code",
   "execution_count": 46,
   "metadata": {},
   "outputs": [
    {
     "name": "stdout",
     "output_type": "stream",
     "text": [
      "Model: \"sequential_1\"\n",
      "_________________________________________________________________\n",
      "Layer (type)                 Output Shape              Param #   \n",
      "=================================================================\n",
      "conv2d_2 (Conv2D)            (None, 62, 62, 32)        320       \n",
      "_________________________________________________________________\n",
      "max_pooling2d_2 (MaxPooling2 (None, 31, 31, 32)        0         \n",
      "_________________________________________________________________\n",
      "conv2d_3 (Conv2D)            (None, 29, 29, 32)        9248      \n",
      "_________________________________________________________________\n",
      "max_pooling2d_3 (MaxPooling2 (None, 14, 14, 32)        0         \n",
      "_________________________________________________________________\n",
      "flatten_1 (Flatten)          (None, 6272)              0         \n",
      "_________________________________________________________________\n",
      "dense_2 (Dense)              (None, 128)               802944    \n",
      "_________________________________________________________________\n",
      "dense_3 (Dense)              (None, 6)                 774       \n",
      "=================================================================\n",
      "Total params: 813,286\n",
      "Trainable params: 813,286\n",
      "Non-trainable params: 0\n",
      "_________________________________________________________________\n"
     ]
    }
   ],
   "source": [
    "classifier.summary()"
   ]
  },
  {
   "cell_type": "markdown",
   "metadata": {},
   "source": [
    "# compiling the model"
   ]
  },
  {
   "cell_type": "code",
   "execution_count": 47,
   "metadata": {},
   "outputs": [],
   "source": [
    "classifier.compile(optimizer='adam', loss='categorical_crossentropy', metrics=['accuracy'])"
   ]
  },
  {
   "cell_type": "markdown",
   "metadata": {},
   "source": [
    "# Training the model\n"
   ]
  },
  {
   "cell_type": "markdown",
   "metadata": {},
   "source": [
    "# fitting the model"
   ]
  },
  {
   "cell_type": "code",
   "execution_count": 57,
   "metadata": {},
   "outputs": [
    {
     "name": "stdout",
     "output_type": "stream",
     "text": [
      "Epoch 1/20\n",
      "119/119 [==============================] - 11s 94ms/step - loss: 1.4243 - acc: 0.4327 - val_loss: 0.6934 - val_acc: 0.7333\n",
      "Epoch 2/20\n",
      "119/119 [==============================] - 3s 27ms/step - loss: 0.7232 - acc: 0.7256 - val_loss: 0.5964 - val_acc: 0.8000\n",
      "Epoch 3/20\n",
      "119/119 [==============================] - 4s 31ms/step - loss: 0.5209 - acc: 0.7862 - val_loss: 0.3982 - val_acc: 0.9000\n",
      "Epoch 4/20\n",
      "119/119 [==============================] - 3s 27ms/step - loss: 0.3574 - acc: 0.8704 - val_loss: 0.3765 - val_acc: 0.8667\n",
      "Epoch 5/20\n",
      "119/119 [==============================] - 4s 30ms/step - loss: 0.3108 - acc: 0.8855 - val_loss: 0.3886 - val_acc: 0.8667\n",
      "Epoch 6/20\n",
      "119/119 [==============================] - 3s 26ms/step - loss: 0.2248 - acc: 0.9259 - val_loss: 0.4443 - val_acc: 0.8333\n",
      "Epoch 7/20\n",
      "119/119 [==============================] - 3s 27ms/step - loss: 0.1716 - acc: 0.9411 - val_loss: 0.3316 - val_acc: 0.9333\n",
      "Epoch 8/20\n",
      "119/119 [==============================] - 3s 26ms/step - loss: 0.1752 - acc: 0.9360 - val_loss: 0.2591 - val_acc: 0.9333\n",
      "Epoch 9/20\n",
      "119/119 [==============================] - 3s 29ms/step - loss: 0.1268 - acc: 0.9545 - val_loss: 0.3051 - val_acc: 0.9333\n",
      "Epoch 10/20\n",
      "119/119 [==============================] - 3s 27ms/step - loss: 0.1254 - acc: 0.9579 - val_loss: 0.3365 - val_acc: 0.9000\n",
      "Epoch 11/20\n",
      "119/119 [==============================] - 4s 29ms/step - loss: 0.0812 - acc: 0.9731 - val_loss: 0.4492 - val_acc: 0.9000\n",
      "Epoch 12/20\n",
      "119/119 [==============================] - 3s 26ms/step - loss: 0.0611 - acc: 0.9848 - val_loss: 0.3259 - val_acc: 0.9333\n",
      "Epoch 13/20\n",
      "119/119 [==============================] - 4s 30ms/step - loss: 0.0628 - acc: 0.9781 - val_loss: 0.5351 - val_acc: 0.8667\n",
      "Epoch 14/20\n",
      "119/119 [==============================] - 3s 27ms/step - loss: 0.0815 - acc: 0.9731 - val_loss: 0.2799 - val_acc: 0.9333\n",
      "Epoch 15/20\n",
      "119/119 [==============================] - 4s 30ms/step - loss: 0.0843 - acc: 0.9764 - val_loss: 0.2745 - val_acc: 0.9000\n",
      "Epoch 16/20\n",
      "119/119 [==============================] - 3s 28ms/step - loss: 0.0533 - acc: 0.9882 - val_loss: 0.3364 - val_acc: 0.9333\n",
      "Epoch 17/20\n",
      "119/119 [==============================] - 4s 31ms/step - loss: 0.0820 - acc: 0.9697 - val_loss: 0.3608 - val_acc: 0.9000\n",
      "Epoch 18/20\n",
      "119/119 [==============================] - 3s 27ms/step - loss: 0.0288 - acc: 0.9899 - val_loss: 0.4040 - val_acc: 0.9667\n",
      "Epoch 19/20\n",
      "119/119 [==============================] - 3s 29ms/step - loss: 0.0383 - acc: 0.9865 - val_loss: 0.2995 - val_acc: 0.9667\n",
      "Epoch 20/20\n",
      "119/119 [==============================] - 3s 28ms/step - loss: 0.0110 - acc: 1.0000 - val_loss: 0.3524 - val_acc: 0.9333\n"
     ]
    },
    {
     "data": {
      "text/plain": [
       "<tensorflow.python.keras.callbacks.History at 0x24d272db6d8>"
      ]
     },
     "execution_count": 57,
     "metadata": {},
     "output_type": "execute_result"
    }
   ],
   "source": [
    " classifier.fit_generator(\n",
    "        generator=x_train,steps_per_epoch = len(x_train),\n",
    "        epochs=20, validation_data=x_test,validation_steps = len(x_test))"
   ]
  },
  {
   "cell_type": "markdown",
   "metadata": {},
   "source": [
    "# saving our model"
   ]
  },
  {
   "cell_type": "code",
   "execution_count": 58,
   "metadata": {},
   "outputs": [],
   "source": [
    "classifier.save('gesture.h5')"
   ]
  },
  {
   "cell_type": "code",
   "execution_count": 59,
   "metadata": {},
   "outputs": [],
   "source": [
    "model_json = classifier.to_json()\n",
    "with open(\"model-bw.json\", \"w\") as json_file:\n",
    "    json_file.write(model_json)"
   ]
  },
  {
   "cell_type": "markdown",
   "metadata": {},
   "source": [
    "# Testing the model"
   ]
  },
  {
   "cell_type": "markdown",
   "metadata": {},
   "source": [
    "# predicting the results"
   ]
  },
  {
   "cell_type": "code",
   "execution_count": 60,
   "metadata": {},
   "outputs": [],
   "source": [
    "from tensorflow.keras.models import load_model\n",
    "from keras.preprocessing import image\n",
    "model = load_model(\"gesture.h5\")"
   ]
  },
  {
   "cell_type": "code",
   "execution_count": 64,
   "metadata": {},
   "outputs": [
    {
     "data": {
      "text/plain": [
       "array([3], dtype=int64)"
      ]
     },
     "execution_count": 64,
     "metadata": {},
     "output_type": "execute_result"
    }
   ],
   "source": [
    "img = image.load_img(r\"E:\\geethanjaliexternship\\3.jpg\",grayscale=True,target_size= (64,64))\n",
    "x = image.img_to_array(img)\n",
    "x = np.expand_dims(x,axis = 0)\n",
    "pred = model.predict_classes(x)\n",
    "pred"
   ]
  },
  {
   "cell_type": "code",
   "execution_count": 65,
   "metadata": {},
   "outputs": [
    {
     "data": {
      "text/plain": [
       "'3'"
      ]
     },
     "execution_count": 65,
     "metadata": {},
     "output_type": "execute_result"
    }
   ],
   "source": [
    "index=['0','1','2','3','4','5']\n",
    "result=str(index[pred[0]])\n",
    "result"
   ]
  },
  {
   "cell_type": "code",
   "execution_count": null,
   "metadata": {},
   "outputs": [],
   "source": []
  },
  {
   "cell_type": "code",
   "execution_count": null,
   "metadata": {},
   "outputs": [],
   "source": []
  },
  {
   "cell_type": "code",
   "execution_count": null,
   "metadata": {},
   "outputs": [],
   "source": []
  }
 ],
 "metadata": {
  "kernelspec": {
   "display_name": "Python 3",
   "language": "python",
   "name": "python3"
  },
  "language_info": {
   "codemirror_mode": {
    "name": "ipython",
    "version": 3
   },
   "file_extension": ".py",
   "mimetype": "text/x-python",
   "name": "python",
   "nbconvert_exporter": "python",
   "pygments_lexer": "ipython3",
   "version": "3.7.3"
  }
 },
 "nbformat": 4,
 "nbformat_minor": 2
}
